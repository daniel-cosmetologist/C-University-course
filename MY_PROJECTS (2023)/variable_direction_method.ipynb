{
 "cells": [
  {
   "attachments": {},
   "cell_type": "markdown",
   "metadata": {},
   "source": [
    "Вот пример шаблона функции на Python для метода прогонки:"
   ]
  },
  {
   "cell_type": "code",
   "execution_count": 2,
   "metadata": {},
   "outputs": [],
   "source": [
    "def solve_tridiagonal_matrix(a, b, c, d):\n",
    "    \"\"\"\n",
    "    Решает систему линейных уравнений Ax=d, где A - трехдиагональная матрица\n",
    "    с диагоналями a, b, c, а d - столбец свободных членов.\n",
    "\n",
    "    :param a: поддиагональ (ниже главной диагонали)\n",
    "    :param b: главная диагональ\n",
    "    :param c: наддиагональ (выше главной диагонали)\n",
    "    :param d: столбец свободных членов\n",
    "    :return: решение x в виде массива\n",
    "    \"\"\"\n",
    "    n = len(d)\n",
    "    c[0] /= b[0]\n",
    "    d[0] /= b[0]\n",
    "\n",
    "    for i in range(1, n):\n",
    "        temp = b[i] - a[i] * c[i - 1]\n",
    "        c[i] /= temp\n",
    "        d[i] = (d[i] - a[i] * d[i - 1]) / temp\n",
    "\n",
    "    x = [0] * n\n",
    "    x[-1] = d[-1]\n",
    "\n",
    "    for i in reversed(range(n - 1)):\n",
    "        x[i] = d[i] - c[i] * x[i + 1]\n",
    "\n",
    "    return x"
   ]
  },
  {
   "attachments": {},
   "cell_type": "markdown",
   "metadata": {},
   "source": [
    "Вот пример шаблона функции на Python, которая реализует метод переменных направлений для решения дифференциальных уравнений:"
   ]
  },
  {
   "cell_type": "code",
   "execution_count": 1,
   "metadata": {},
   "outputs": [],
   "source": [
    "def solve_pde_heat_equation(u, dx, dy, dt, T):\n",
    "    \"\"\"\n",
    "    Решает уравнение теплопроводности\n",
    "\n",
    "    :param u: начальное распределение температуры\n",
    "    :param dx: расстояние по оси x\n",
    "    :param dy: расстояние по оси y\n",
    "    :param dt: шаг времени\n",
    "    :param T: конечное время\n",
    "    :return: u_new: новое распределение температуры\n",
    "    \"\"\"\n",
    "    nx, ny = u.shape\n",
    "    nt = int(T / dt)\n",
    "\n",
    "    # шаг метода переменных направлений\n",
    "    a_x = dt / (2 * dx ** 2)\n",
    "    a_y = dt / (2 * dy ** 2)\n",
    "\n",
    "    u_new = u.copy()\n",
    "\n",
    "    # цикл по времени\n",
    "    for k in range(nt):\n",
    "        # цикл по пространству по одной координате\n",
    "        for i in range(1, nx - 1):\n",
    "            for j in range(1, ny - 1):\n",
    "                # решение уравнения\n",
    "                u_new[i, j] = u[i, j] + a_x * (u[i + 1, j] - 2 * u[i, j] + u[i - 1, j]) + \\\n",
    "                              a_y * (u[i, j + 1] - 2 * u[i, j] + u[i, j - 1])\n",
    "\n",
    "        # переход к следующему шагу\n",
    "        u = u_new.copy()\n",
    "\n",
    "    return u_new"
   ]
  },
  {
   "attachments": {},
   "cell_type": "markdown",
   "metadata": {},
   "source": [
    "Эта функция принимает начальное распределение температуры, размеры сетки по осям x и y, шаг времени и время T, на которое нужно проводить расчеты. Затем функция находит шаг метода переменных направлений, создает новый массив с результатами, а затем проходится циклами по пространству и времени, решая уравнение теплопроводности. Наконец, результат сохраняется в новом массиве и возвращается на выходе функции."
   ]
  }
 ],
 "metadata": {
  "kernelspec": {
   "display_name": "Python 3",
   "language": "python",
   "name": "python3"
  },
  "language_info": {
   "codemirror_mode": {
    "name": "ipython",
    "version": 3
   },
   "file_extension": ".py",
   "mimetype": "text/x-python",
   "name": "python",
   "nbconvert_exporter": "python",
   "pygments_lexer": "ipython3",
   "version": "3.10.4"
  },
  "orig_nbformat": 4
 },
 "nbformat": 4,
 "nbformat_minor": 2
}
