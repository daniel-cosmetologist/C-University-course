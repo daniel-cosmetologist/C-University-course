{
 "cells": [
  {
   "cell_type": "markdown",
   "metadata": {},
   "source": []
  },
  {
   "cell_type": "code",
   "execution_count": 7,
   "metadata": {},
   "outputs": [
    {
     "ename": "OSError",
     "evalue": "libGL.so.1: cannot open shared object file: No such file or directory",
     "output_type": "error",
     "traceback": [
      "\u001b[0;31m---------------------------------------------------------------------------\u001b[0m",
      "\u001b[0;31mOSError\u001b[0m                                   Traceback (most recent call last)",
      "Cell \u001b[0;32mIn[7], line 4\u001b[0m\n\u001b[1;32m      1\u001b[0m \u001b[39m# -*- coding: utf-8 -*-\u001b[39;00m\n\u001b[1;32m      3\u001b[0m \u001b[39mimport\u001b[39;00m \u001b[39mnumpy\u001b[39;00m \u001b[39mas\u001b[39;00m \u001b[39mnp\u001b[39;00m\n\u001b[0;32m----> 4\u001b[0m \u001b[39mimport\u001b[39;00m \u001b[39mopen3d\u001b[39;00m \u001b[39mas\u001b[39;00m \u001b[39mo3d\u001b[39;00m\n\u001b[1;32m      5\u001b[0m \u001b[39mfrom\u001b[39;00m \u001b[39mquantimpy\u001b[39;00m \u001b[39mimport\u001b[39;00m minkowski \u001b[39mas\u001b[39;00m mk\n\u001b[1;32m      7\u001b[0m \u001b[39mdef\u001b[39;00m \u001b[39mVoxelGridToArray\u001b[39m(vg):\n",
      "File \u001b[0;32m~/.python/current/lib/python3.10/site-packages/open3d/__init__.py:64\u001b[0m\n\u001b[1;32m     60\u001b[0m \u001b[39mif\u001b[39;00m _build_config[\u001b[39m\"\u001b[39m\u001b[39mBUILD_CUDA_MODULE\u001b[39m\u001b[39m\"\u001b[39m]:\n\u001b[1;32m     61\u001b[0m     \u001b[39m# Load CPU pybind dll gracefully without introducing new python variable.\u001b[39;00m\n\u001b[1;32m     62\u001b[0m     \u001b[39m# Do this before loading the CUDA pybind dll to correctly resolve symbols\u001b[39;00m\n\u001b[1;32m     63\u001b[0m     \u001b[39mtry\u001b[39;00m:  \u001b[39m# StopIteration if cpu version not available\u001b[39;00m\n\u001b[0;32m---> 64\u001b[0m         _CDLL(\u001b[39mstr\u001b[39;49m(\u001b[39mnext\u001b[39;49m((_Path(\u001b[39m__file__\u001b[39;49m)\u001b[39m.\u001b[39;49mparent \u001b[39m/\u001b[39;49m \u001b[39m'\u001b[39;49m\u001b[39mcpu\u001b[39;49m\u001b[39m'\u001b[39;49m)\u001b[39m.\u001b[39;49mglob(\u001b[39m'\u001b[39;49m\u001b[39mpybind*\u001b[39;49m\u001b[39m'\u001b[39;49m))))\n\u001b[1;32m     65\u001b[0m     \u001b[39mexcept\u001b[39;00m \u001b[39mStopIteration\u001b[39;00m:\n\u001b[1;32m     66\u001b[0m         warnings\u001b[39m.\u001b[39mwarn(\n\u001b[1;32m     67\u001b[0m             \u001b[39m\"\u001b[39m\u001b[39mOpen3D was built with CUDA support, but Open3D CPU Python \u001b[39m\u001b[39m\"\u001b[39m\n\u001b[1;32m     68\u001b[0m             \u001b[39m\"\u001b[39m\u001b[39mbindings were not found. Open3D will not work on systems without\u001b[39m\u001b[39m\"\u001b[39m\n\u001b[1;32m     69\u001b[0m             \u001b[39m\"\u001b[39m\u001b[39m CUDA devices.\u001b[39m\u001b[39m\"\u001b[39m, \u001b[39mImportWarning\u001b[39;00m)\n",
      "File \u001b[0;32m~/.python/current/lib/python3.10/ctypes/__init__.py:374\u001b[0m, in \u001b[0;36mCDLL.__init__\u001b[0;34m(self, name, mode, handle, use_errno, use_last_error, winmode)\u001b[0m\n\u001b[1;32m    371\u001b[0m \u001b[39mself\u001b[39m\u001b[39m.\u001b[39m_FuncPtr \u001b[39m=\u001b[39m _FuncPtr\n\u001b[1;32m    373\u001b[0m \u001b[39mif\u001b[39;00m handle \u001b[39mis\u001b[39;00m \u001b[39mNone\u001b[39;00m:\n\u001b[0;32m--> 374\u001b[0m     \u001b[39mself\u001b[39m\u001b[39m.\u001b[39m_handle \u001b[39m=\u001b[39m _dlopen(\u001b[39mself\u001b[39;49m\u001b[39m.\u001b[39;49m_name, mode)\n\u001b[1;32m    375\u001b[0m \u001b[39melse\u001b[39;00m:\n\u001b[1;32m    376\u001b[0m     \u001b[39mself\u001b[39m\u001b[39m.\u001b[39m_handle \u001b[39m=\u001b[39m handle\n",
      "\u001b[0;31mOSError\u001b[0m: libGL.so.1: cannot open shared object file: No such file or directory"
     ]
    }
   ],
   "source": [
    "# -*- coding: utf-8 -*-\n",
    "\n",
    "import numpy as np\n",
    "import open3d as o3d\n",
    "from quantimpy import minkowski as mk\n",
    "\n",
    "def VoxelGridToArray(vg):\n",
    "\t'''\n",
    "\n",
    "\tParameters\n",
    "\t----------\n",
    "\tvg : open3d.geometry.VoxelGrid\n",
    "\n",
    "\tReturns\n",
    "\t-------\n",
    "\tBINARY numpy array.\n",
    "\n",
    "\t'''\n",
    "\tvoxs = vg.get_voxels()\n",
    "\tsize = np.zeros(3, dtype = int)\n",
    "\tfor v in voxs:\n",
    "\t\tsize = np.maximum(size,v.grid_index)\n",
    "\tresult = np.full(size+1, False)\n",
    "\tfor v in voxs:\n",
    "\t\tresult[tuple(v.grid_index)] = True\n",
    "\treturn result\n",
    "\n",
    "skull_3_pcd = o3d.io.read_point_cloud(r\"/workspaces/C-University-course/КА_291 clean.pcd\")\n",
    "voxel_grid = o3d.geometry.VoxelGrid.create_from_point_cloud(skull_3_pcd, voxel_size=0.005)\n",
    "A = VoxelGridToArray(voxel_grid)\n",
    "\n",
    "#import tifffile as tf\n",
    "#tf.imwrite(\"temp_skull.tiff\", data = A)\n",
    "\n",
    "minkowski = mk.functionals(A)\n",
    "print(minkowski)\n",
    "\n",
    "\n",
    "#ALPHA SHAPE\n",
    "import alphashape\n",
    "import matplotlib.pyplot as plt\n",
    "\n",
    "alpha = 0.1\n",
    "B = np.asarray(skull_3_pcd.points)\n",
    "alpha_shape = alphashape.alphashape(B, alpha)\n",
    "\n",
    "fig = plt.figure()\n",
    "ax = plt.axes(projection='3d')\n",
    "ax.plot_trisurf(*zip(*alpha_shape.vertices), triangles=alpha_shape.faces)\n",
    "plt.show()\n",
    "\"\"\"\n",
    "\n",
    "\"\"\"\n",
    "mesh = o3d.geometry.TriangleMesh.create_from_point_cloud_alpha_shape(skull_3_pcd, alpha)\n",
    "mesh.compute_vertex_normals()\n",
    "o3d.visualization.draw_geometries([mesh])\n",
    "\"\"\""
   ]
  }
 ],
 "metadata": {
  "kernelspec": {
   "display_name": "Python 3",
   "language": "python",
   "name": "python3"
  },
  "language_info": {
   "codemirror_mode": {
    "name": "ipython",
    "version": 3
   },
   "file_extension": ".py",
   "mimetype": "text/x-python",
   "name": "python",
   "nbconvert_exporter": "python",
   "pygments_lexer": "ipython3",
   "version": "3.10.4"
  },
  "orig_nbformat": 4
 },
 "nbformat": 4,
 "nbformat_minor": 2
}
